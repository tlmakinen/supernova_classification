{
 "cells": [
  {
   "cell_type": "markdown",
   "metadata": {},
   "source": [
    "# SNIa Selection Function Fitting for BAHAMAS\n",
    "Using Logistic Regression in scikit-learn to predict whether or not a supernova will be selected for follow-up in an astronomical survey. This is a two-class classification problem; we want to know what attributes of a supernova (SN) will make it more likely to be classified as \"selected\" or \"missed\".\n",
    "\n",
    "This notebook is for visualizing a small piece of our statistical pipeline. This routine will be incorporated in the consise \"logreg.py\" module in the BAHAMAS repository.\n",
    "\n",
    "\n",
    "Notebook flow inspired by http://nbviewer.jupyter.org/gist/justmarkham/6d5c061ca5aee67c4316471f8c2ae976"
   ]
  },
  {
   "cell_type": "markdown",
   "metadata": {},
   "source": [
    "## Logistic Regression Background\n",
    "\n",
    "We'll assign a latent variable $Z_i$ = {1 for \"selected\", 0 for \"missed\"} to represent each i SN's classification. We want to know the probability of selecting each SN$_i$ (between 0 and 1) so we'll fit a \"selection function\" to smoothly connect $Z_i$ = 1 to $Z_i$ = 0. This function is called the **sigmoid function** and maps a continuous $x$ space as a probability $p$ between 0 and 1 (in this case, our two classes):\n",
    "\n",
    "\n",
    " $$p = \\frac{1}{(1 + e^{-\\beta x})}$$ \n",
    "\n",
    "By fitting this sigmoid model to a set of supernovae **whose $Z_i$ selection value is known** for the coefficient $\\beta$ for a given parameter $x$, we can then use the fitted model to **guess the probability of selection on a new set of SNe whose selection is unknown**.\n",
    "\n",
    "\n",
    "## Our Supernova Dataset\n",
    "\n",
    "All data come from simulations, which will be used to test a Bayesian hierarchical inference routine. \n",
    "When we run SNANA simulations to generate our supernovae (SNe), all generated SNe are dumped in a bulk file with \"truth\" values for the latent inputs:\n",
    "\n",
    "\n",
    "- $mB$ : apparent B-band magnitude\n",
    "- $c$  : color (distribution centered on 0)\n",
    "- $x1$ : \"stretch\" or duration of SN event\n",
    "\n",
    "\n",
    "Once we've created a bulk data file, we pretend to \"observe\" a subset of our generated SNe. Processing cuts designed for real observations are applied. The remaining SNe are now dubbed \"selected\" since they passed hidden thresholds in the above latent inputs. These thresholds, that separate **bulk SNe** from **selected SNe**, are what we're trying to define."
   ]
  },
  {
   "cell_type": "code",
   "execution_count": 1,
   "metadata": {
    "collapsed": true
   },
   "outputs": [],
   "source": [
    "# modules we need for the analysis\n",
    "import numpy as np\n",
    "import statsmodels.api as sm\n",
    "import statsmodels.formula.api as smf\n",
    "import pandas as pd\n",
    "# turn off annoying write warnings in pandas\n",
    "pd.options.mode.chained_assignment = None  # default='warn'\n",
    "\n",
    "import matplotlib.pyplot as plt"
   ]
  },
  {
   "cell_type": "code",
   "execution_count": 2,
   "metadata": {
    "collapsed": true
   },
   "outputs": [],
   "source": [
    "import pylab as pl\n",
    "import scipy"
   ]
  },
  {
   "cell_type": "code",
   "execution_count": 3,
   "metadata": {
    "collapsed": true
   },
   "outputs": [],
   "source": [
    "# Workaround for \"chisqprob\" missing module in scipy\n",
    "from scipy import stats\n",
    "from scipy import stats\n",
    "stats.chisqprob = lambda chisq, df: stats.chi2.sf(chisq, df)"
   ]
  },
  {
   "cell_type": "markdown",
   "metadata": {},
   "source": [
    "## Data Cleaning"
   ]
  },
  {
   "cell_type": "code",
   "execution_count": 4,
   "metadata": {
    "collapsed": false,
    "scrolled": true
   },
   "outputs": [],
   "source": [
    "# load data from smearC11 (glare type) FITRES files\n",
    "data_sel = pd.read_csv('/mnt/c/Users/lucas/Datasets/bahamas/data_snana/smearC11/FITOPT001.FITRES', sep='\\s+', skiprows=12)  # selected SNe\n",
    "data_all = pd.read_csv('/mnt/c/Users/lucas/Datasets/bahamas/data_snana/smearC11/SIMGEN.DAT', sep='\\s+', skiprows=9) # bulk simulated SNe"
   ]
  },
  {
   "cell_type": "code",
   "execution_count": 5,
   "metadata": {
    "collapsed": false
   },
   "outputs": [
    {
     "name": "stderr",
     "output_type": "stream",
     "text": [
      "/home/lucas/anaconda3/lib/python3.5/site-packages/ipykernel/__main__.py:2: RuntimeWarning: invalid value encountered in log10\n",
      "  from ipykernel import kernelapp as app\n"
     ]
    }
   ],
   "source": [
    "# convert simulated x0 to mB\n",
    "S2mB = [(-2.5 * np.log10(x0) + 10.6) for x0 in data_all['S2x0']]\n",
    "data_all.loc[:,'S2mB'] = pd.Series(data=S2mB, index=data_all.index)\n",
    "data_all;"
   ]
  },
  {
   "cell_type": "code",
   "execution_count": 6,
   "metadata": {
    "collapsed": false
   },
   "outputs": [],
   "source": [
    "# remove nan values to be able to work with the data\n",
    "\n",
    "data_all.replace([np.inf, -np.inf], np.nan)\n",
    "data_all = data_all.dropna(axis=0,how='any')"
   ]
  },
  {
   "cell_type": "markdown",
   "metadata": {},
   "source": [
    "We want to know which of the bulk SNe ended up being selected. We're going to use the numpy intersect method to compare the selected SNe ID tags with the bulk SNe ID tags. We'll end up with an array of ID tags that we can then use to create a selection flag. **If a selected SNe is found in the bulk dataframe, we'll add a a Boolean tag (1=selected, 0=missed) to a column called \"selection_tag\".**"
   ]
  },
  {
   "cell_type": "code",
   "execution_count": 7,
   "metadata": {
    "collapsed": false
   },
   "outputs": [
    {
     "name": "stdout",
     "output_type": "stream",
     "text": [
      "620 SNe in selected file AND bulk file\n"
     ]
    }
   ],
   "source": [
    "intersect = np.intersect1d((data_all['CID']).astype(int), (data_sel['CID']))\n",
    "print(intersect.size, \"SNe in selected file AND bulk file\")"
   ]
  },
  {
   "cell_type": "code",
   "execution_count": 8,
   "metadata": {
    "collapsed": false
   },
   "outputs": [
    {
     "data": {
      "text/plain": [
       "12705"
      ]
     },
     "execution_count": 8,
     "metadata": {},
     "output_type": "execute_result"
    }
   ],
   "source": [
    "# using inbuilt Python object \"in\" structure setup, we can quickly compare our ID tags from data_sel and data_all:\n",
    "selectIDs = []\n",
    "for name in data_all['CID'].astype(int):\n",
    "    if name in intersect:\n",
    "        selectIDs.append(1) \n",
    "    else:\n",
    "        selectIDs.append(0)\n",
    "len(selectIDs)"
   ]
  },
  {
   "cell_type": "code",
   "execution_count": 9,
   "metadata": {
    "collapsed": false
   },
   "outputs": [],
   "source": [
    "# add to Pandas table data_all:\n",
    "data_all.loc[:,'selection_tag'] = pd.Series(data=selectIDs, index=data_all.index)\n",
    "# convert redshift values from string to floats in data_all\n",
    "data_all.loc[:,'GENZ'] = data_all['GENZ'].astype(float)"
   ]
  },
  {
   "cell_type": "markdown",
   "metadata": {},
   "source": [
    "## Cutting out Junk SNe\n",
    "Some of the supernovae generated by SNANA simulations aren't actually Type Ia -- let's take them out!"
   ]
  },
  {
   "cell_type": "code",
   "execution_count": 10,
   "metadata": {
    "collapsed": false
   },
   "outputs": [
    {
     "name": "stdout",
     "output_type": "stream",
     "text": [
      "2223 Type Ia supernovae in bulk dataset\n"
     ]
    }
   ],
   "source": [
    "# all non-Ia SNe are labeled with a string ID > 0. Let's create a boolean mask to remove them\n",
    "snia_mask = np.invert((data_all['NON1A_INDEX'].values.astype(int) > 0).astype(bool))\n",
    "# rewrite bulk dataset for just snia\n",
    "data_all = data_all.iloc[snia_mask]\n",
    "print(str(sum(snia_mask.astype(int))) + \" Type Ia supernovae in bulk dataset\")"
   ]
  },
  {
   "cell_type": "code",
   "execution_count": 11,
   "metadata": {
    "collapsed": false
   },
   "outputs": [],
   "source": [
    "# remove -9 placeholder valued SNe in selection file\n",
    "snia_sel = data_sel['SIM_c'].values.astype(int) > -9\n",
    "snia_sel &= data_sel['SIM_mB'].values.astype(int) > 0\n",
    "snia_sel &= data_sel['SIM_x1'].values.astype(int) > -9"
   ]
  },
  {
   "cell_type": "code",
   "execution_count": 12,
   "metadata": {
    "collapsed": false
   },
   "outputs": [
    {
     "name": "stdout",
     "output_type": "stream",
     "text": [
      "573  viable Type Ia SNe in bulk dataset\n"
     ]
    }
   ],
   "source": [
    "# re-write the selected dataframe for viable SNIa:\n",
    "data_sel = data_sel.iloc[snia_sel]\n",
    "print(str(len(data_sel)), \" viable Type Ia SNe in bulk dataset\")"
   ]
  },
  {
   "cell_type": "markdown",
   "metadata": {},
   "source": [
    "## SNIa Latent Plots"
   ]
  },
  {
   "cell_type": "markdown",
   "metadata": {},
   "source": [
    "It's useful to also look at the distributions of SNIa latent variables in the bulk data. We're going to compare the \"Total\", \"Missed\", and \"Selected\" populations of the bulk dataset."
   ]
  },
  {
   "cell_type": "code",
   "execution_count": 13,
   "metadata": {
    "collapsed": false
   },
   "outputs": [
    {
     "name": "stdout",
     "output_type": "stream",
     "text": [
      "1650 missed SNe in bulk data\n"
     ]
    }
   ],
   "source": [
    "selected_mask = data_all['selection_tag'].values.astype(bool)\n",
    "missed_mask = np.invert(selected_mask)\n",
    "print(str(sum(missed_mask)) + \" missed SNe in bulk data\")"
   ]
  },
  {
   "cell_type": "code",
   "execution_count": 14,
   "metadata": {
    "collapsed": false
   },
   "outputs": [
    {
     "data": {
      "image/png": "[encoded data removed]",
      "text/plain": [
       "<Figure size 648x648 with 4 Axes>"
      ]
     },
     "metadata": {},
     "output_type": "display_data"
    }
   ],
   "source": [
    "# Let's take a look at the OBSERVED SNe... We're going to \"zoom in\" on the normally-distributed populations from the plots above\n",
    "\n",
    "# define lists of plotting features for latent mB, c, & x1\n",
    "sel_names = [\"zHEL\", \"SIM_mB\", 'SIM_c', 'SIM_x1']\n",
    "obs_names = [\"GENZ\", 'S2mB', 'S2c', 'S2x1']\n",
    "labels = ['$z$', '$m_B$', '$c$', '$x_1$']\n",
    "allbinz = [10, 10, 10, 10]\n",
    "selbinz = [10, 10, 10, 10]\n",
    "missedbinz = [10, 10, 15, 10]\n",
    "xlims = [(0, 1.3),(14, 30), (-0.5, 0.5), (-4, 2)]\n",
    "\n",
    "# make the plot\n",
    "fig,axs = plt.subplots(2, 2, figsize = (9,9))\n",
    "\n",
    "# sum number of objects in each category\n",
    "selsum = str(len(data_sel))\n",
    "observedsum = str(len(data_all))\n",
    "missedsum = str(sum(missed_mask))\n",
    "\n",
    "# flatten axes list to iterate over them\n",
    "axs = np.ravel(axs)\n",
    "\n",
    "for i in range(len(axs)):\n",
    "    # selected Ia SNe\n",
    "    axs[i].hist(data_sel[sel_names[i]], histtype='step', bins=selbinz[i], color='b', label=selsum +' Selected Ia SNe', stacked=False, density=True)\n",
    "    # bulk Ia SNe\n",
    "    axs[i].hist(data_all[obs_names[i]], histtype='step', bins=allbinz[i], color='k', label= observedsum + ' Total Ia SNe', stacked=False, density=True)\n",
    "    # add missed Ia SNe\n",
    "    axs[i].hist(data_all[obs_names[i]].iloc[missed_mask], histtype='step', bins=missedbinz[i], color='r', label= missedsum + ' Missed Ia SNe', stacked=False, density=True)\n",
    "    # plot labels\n",
    "    axs[i].set_xlabel(labels[i], fontsize=15)\n",
    "    axs[i].set_xlabel(labels[i], fontsize=15)\n",
    "    \n",
    "    #axs[i].set_xlim(xlims[i]|)\n",
    "\n",
    "fig.suptitle(\"Normalized Distributions of SNIa True Latent Variables and Redshift\", fontsize=20)\n",
    "axs[1].legend(loc='best')\n",
    "plt.show()"
   ]
  },
  {
   "cell_type": "markdown",
   "metadata": {},
   "source": [
    "Plots normalized to peak value in each category: \"selected\", \"missed\" and \"bulk & observed\".\n",
    "\n",
    "Note that of the variables, redshift and B-band magnitude mB have the **greatest effect on shaping the \"selected\" peak of SNIa.** We can't fit our logistic regression function to redshift, since the bigger hierarchical model won't take it into effect. But we can look at the other three latent variables."
   ]
  },
  {
   "cell_type": "markdown",
   "metadata": {},
   "source": [
    "## Logistic Regression using Scikit-Learn\n",
    "Using the scikit-learn module, we're going to fit for our logistic regression coefficients. We're going to make use of the patsy dmatrices module to make our intercept column to fit to. \n",
    "\n",
    "$\\phi$ is our vector of latent variables: $\\phi = [m_B, c, x_1]$. $Z$ is the vector what we're fitting to: for each $SN_i$, $Z_i = \\{0$ ~ \"missed\" OR $1$ ~ \"selected\"\\}. "
   ]
  },
  {
   "cell_type": "markdown",
   "metadata": {},
   "source": [
    "Let's define our selection function. The probability that a SN is classified as \"selected\" is:\n",
    " $$p_i = \\frac{1}{(1 + e^{-f(\\phi_i)})}$$ \n",
    "Where $$f(\\phi_i) = \\beta_{m_B}m_{Bi} + \\beta_{c}c_i + \\beta_{x_1}x_{1i} + \\epsilon $$\n",
    "\n",
    "This is also called the *sigmoid* function, since it maps our different $\\phi$ components between 0 and 1. **What this does is maps our supernovae as a function of each parameter vector $\\phi_i$ between one of two classes: Selected or Missed!**"
   ]
  },
  {
   "cell_type": "code",
   "execution_count": 15,
   "metadata": {
    "collapsed": false
   },
   "outputs": [
    {
     "data": {
      "image/png": "[encoded data removed]",
      "text/plain": [
       "<Figure size 432x288 with 1 Axes>"
      ]
     },
     "metadata": {},
     "output_type": "display_data"
    }
   ],
   "source": [
    "# First let's see what we're going to be fitting:\n",
    "plt.hist(data_all[\"selection_tag\"], color='k', histtype='step')\n",
    "plt.show()"
   ]
  },
  {
   "cell_type": "code",
   "execution_count": 16,
   "metadata": {
    "collapsed": false
   },
   "outputs": [],
   "source": [
    "# The modules we're going to need\n",
    "from sklearn.linear_model import LogisticRegression\n",
    "from sklearn.model_selection import train_test_split\n",
    "from sklearn import metrics\n",
    "from sklearn.model_selection import cross_val_score"
   ]
  },
  {
   "cell_type": "markdown",
   "metadata": {},
   "source": [
    "### Logistic Regression on the whole dataset"
   ]
  },
  {
   "cell_type": "code",
   "execution_count": 17,
   "metadata": {
    "collapsed": false
   },
   "outputs": [],
   "source": [
    "# First take a look at regression on the whole dataset\n",
    "from patsy import dmatrices  # neat helper module from patsy\n",
    "\n",
    "Z, phi = dmatrices('selection_tag ~ S2mB + S2c + S2x1', data_all, return_type = 'dataframe')\n",
    "\n",
    "# define model, and set parameter regularization to a minimum --> WHY??\n",
    "log_model = LogisticRegression(fit_intercept = False, C = 1e9)\n",
    "\n",
    "Z = np.ravel(Z) # flatten Z to 1D\n",
    "mdl = log_model.fit(phi, Z)\n",
    "log_model.coef_;"
   ]
  },
  {
   "cell_type": "code",
   "execution_count": 18,
   "metadata": {
    "collapsed": false
   },
   "outputs": [
    {
     "data": {
      "text/plain": [
       "0.7989203778677463"
      ]
     },
     "execution_count": 18,
     "metadata": {},
     "output_type": "execute_result"
    }
   ],
   "source": [
    "# Let's see how the model scores with the whole observed dataset\n",
    "log_model.score(phi, Z)"
   ]
  },
  {
   "cell_type": "markdown",
   "metadata": {},
   "source": [
    "So even without training the model we're at 79% accuracy"
   ]
  },
  {
   "cell_type": "code",
   "execution_count": 19,
   "metadata": {
    "collapsed": false
   },
   "outputs": [
    {
     "data": {
      "text/html": [
       "<div>\n",
       "<style scoped>\n",
       "    .dataframe tbody tr th:only-of-type {\n",
       "        vertical-align: middle;\n",
       "    }\n",
       "\n",
       "    .dataframe tbody tr th {\n",
       "        vertical-align: top;\n",
       "    }\n",
       "\n",
       "    .dataframe thead th {\n",
       "        text-align: right;\n",
       "    }\n",
       "</style>\n",
       "<table border=\"1\" class=\"dataframe\">\n",
       "  <thead>\n",
       "    <tr style=\"text-align: right;\">\n",
       "      <th></th>\n",
       "      <th>0</th>\n",
       "      <th>1</th>\n",
       "    </tr>\n",
       "  </thead>\n",
       "  <tbody>\n",
       "    <tr>\n",
       "      <th>0</th>\n",
       "      <td>Intercept</td>\n",
       "      <td>[25.327212973048606]</td>\n",
       "    </tr>\n",
       "    <tr>\n",
       "      <th>1</th>\n",
       "      <td>S2mB</td>\n",
       "      <td>[-1.1095557083972842]</td>\n",
       "    </tr>\n",
       "    <tr>\n",
       "      <th>2</th>\n",
       "      <td>S2c</td>\n",
       "      <td>[0.2510333720766435]</td>\n",
       "    </tr>\n",
       "    <tr>\n",
       "      <th>3</th>\n",
       "      <td>S2x1</td>\n",
       "      <td>[0.12014813186082461]</td>\n",
       "    </tr>\n",
       "  </tbody>\n",
       "</table>\n",
       "</div>"
      ],
      "text/plain": [
       "           0                      1\n",
       "0  Intercept   [25.327212973048606]\n",
       "1       S2mB  [-1.1095557083972842]\n",
       "2        S2c   [0.2510333720766435]\n",
       "3       S2x1  [0.12014813186082461]"
      ]
     },
     "execution_count": 19,
     "metadata": {},
     "output_type": "execute_result"
    }
   ],
   "source": [
    "# take a look at the coefficients--use zip and then convert to a list\n",
    "pd.DataFrame(list(zip(phi.columns, np.transpose(log_model.coef_))))"
   ]
  },
  {
   "cell_type": "markdown",
   "metadata": {},
   "source": [
    "From here we can already see that the mB parameter has the largest (negative) slope. This makes sense from a physical standpoint since the larger the magnitude of a SN, the dimmer it will appear, making it less likely to be observed.\n",
    "\n",
    "## Supervised Learning Logistic Regression\n",
    "\n",
    "Next we're going to split our data into train and test groups to do a supervised learning fit. We're going to split the observed data into two groups: \n",
    "- 25% into a \"train\" group to find our logistic regression coefficients\n",
    "- 75% into a \"test\" group to test the accuracy of our selection function classifier"
   ]
  },
  {
   "cell_type": "code",
   "execution_count": 20,
   "metadata": {
    "collapsed": false
   },
   "outputs": [],
   "source": [
    "# Next, split the observed SNe into two groups:\n",
    "# 25% data_train, 75% data_test\n",
    "phi_train, phi_test, Z_train, Z_test = train_test_split(phi, Z, train_size=0.25, test_size=0.75, random_state = 0)\n",
    "\n",
    "# use limited-memory Broyden-Fletcher-Goldfarb-Shanno algorithm with no parameter regularization\n",
    "learn_model = LogisticRegression(fit_intercept = False, C = 1e9, solver='lbfgs') \n",
    "learn_model.fit(phi_train, Z_train)\n",
    "learn_model.coef_;"
   ]
  },
  {
   "cell_type": "code",
   "execution_count": 21,
   "metadata": {
    "collapsed": false
   },
   "outputs": [
    {
     "data": {
      "text/html": [
       "<div>\n",
       "<style scoped>\n",
       "    .dataframe tbody tr th:only-of-type {\n",
       "        vertical-align: middle;\n",
       "    }\n",
       "\n",
       "    .dataframe tbody tr th {\n",
       "        vertical-align: top;\n",
       "    }\n",
       "\n",
       "    .dataframe thead th {\n",
       "        text-align: right;\n",
       "    }\n",
       "</style>\n",
       "<table border=\"1\" class=\"dataframe\">\n",
       "  <thead>\n",
       "    <tr style=\"text-align: right;\">\n",
       "      <th></th>\n",
       "      <th>0</th>\n",
       "      <th>1</th>\n",
       "    </tr>\n",
       "  </thead>\n",
       "  <tbody>\n",
       "    <tr>\n",
       "      <th>0</th>\n",
       "      <td>Intercept</td>\n",
       "      <td>[39.12021604420634]</td>\n",
       "    </tr>\n",
       "    <tr>\n",
       "      <th>1</th>\n",
       "      <td>S2mB</td>\n",
       "      <td>[-1.684209660478683]</td>\n",
       "    </tr>\n",
       "    <tr>\n",
       "      <th>2</th>\n",
       "      <td>S2c</td>\n",
       "      <td>[2.3581729937956513]</td>\n",
       "    </tr>\n",
       "    <tr>\n",
       "      <th>3</th>\n",
       "      <td>S2x1</td>\n",
       "      <td>[-0.0036850295921430354]</td>\n",
       "    </tr>\n",
       "  </tbody>\n",
       "</table>\n",
       "</div>"
      ],
      "text/plain": [
       "           0                         1\n",
       "0  Intercept       [39.12021604420634]\n",
       "1       S2mB      [-1.684209660478683]\n",
       "2        S2c      [2.3581729937956513]\n",
       "3       S2x1  [-0.0036850295921430354]"
      ]
     },
     "execution_count": 21,
     "metadata": {},
     "output_type": "execute_result"
    }
   ],
   "source": [
    "# learn model coefficients--use zip and then convert to a list\n",
    "pd.DataFrame(list(zip(phi.columns, np.transpose(learn_model.coef_))))"
   ]
  },
  {
   "cell_type": "markdown",
   "metadata": {},
   "source": [
    "We're now going to test our model on the test data. Using the above coefficients, we're going to try to predict whether a SN$_{test}$ was selected or not. Then, we'll compare the prediction to the actual distribution of selected vs unselected SN in the test sample"
   ]
  },
  {
   "cell_type": "code",
   "execution_count": 22,
   "metadata": {
    "collapsed": false
   },
   "outputs": [],
   "source": [
    "# predict whether a SN in the test set was selected, using our phi_test values\n",
    "predicted = learn_model.predict(phi_test)"
   ]
  },
  {
   "cell_type": "code",
   "execution_count": 23,
   "metadata": {
    "collapsed": false
   },
   "outputs": [
    {
     "data": {
      "text/plain": [
       "array([[0.82124563, 0.17875437],\n",
       "       [0.94431309, 0.05568691],\n",
       "       [0.9635063 , 0.0364937 ],\n",
       "       ...,\n",
       "       [0.92458297, 0.07541703],\n",
       "       [0.15943081, 0.84056919],\n",
       "       [0.95656928, 0.04343072]])"
      ]
     },
     "execution_count": 23,
     "metadata": {},
     "output_type": "execute_result"
    }
   ],
   "source": [
    "# generate probability of being missed (first column) or selected\n",
    "probs = learn_model.predict_proba(phi_test)\n",
    "probs"
   ]
  },
  {
   "cell_type": "code",
   "execution_count": 24,
   "metadata": {
    "collapsed": false
   },
   "outputs": [
    {
     "name": "stdout",
     "output_type": "stream",
     "text": [
      "0.8015587529976019\n",
      "0.8409400007513994\n"
     ]
    }
   ],
   "source": [
    "# generate evaluation metrics for the train and test groups\n",
    "print(metrics.accuracy_score(Z_test, predicted))\n",
    "\n",
    "# compare the true versus false positive rate using the receiver operatic characteristic curve.\n",
    "# this curve is obtained by plotting true positive rate against false positive rate; the area under is an accuracy score\n",
    "print(metrics.roc_auc_score(Z_test, probs[:, 1]))"
   ]
  },
  {
   "cell_type": "markdown",
   "metadata": {},
   "source": [
    "So by training the model, our fits improved! "
   ]
  },
  {
   "cell_type": "code",
   "execution_count": 25,
   "metadata": {
    "collapsed": false
   },
   "outputs": [],
   "source": [
    "# unpack the parameters\n",
    "pars = learn_model.coef_[0]\n",
    "eps,gm,gc,gx = pars"
   ]
  },
  {
   "cell_type": "code",
   "execution_count": 26,
   "metadata": {
    "collapsed": true
   },
   "outputs": [],
   "source": [
    "# From \"selection_effects.py\" This is the selection function for each latent variable\n",
    "# The selection parameters are the coefficients we fitted above\n",
    "# EXPONENTIATE to get the desired sigmoid curves\n",
    "def log_indiv_selection_fn(phi_i, selection_param=(gm, gc, gx, eps)):\n",
    "    coefs = np.array(selection_param)\n",
    "    position = np.array([*phi_i, 1])\n",
    "    argument = np.dot(coefs, position)\n",
    "    return scipy.stats.norm.logcdf(np.sqrt(np.pi/8)*argument)# must be a logcdf so it dies/grows to 0/1 at the right speed"
   ]
  },
  {
   "cell_type": "code",
   "execution_count": 27,
   "metadata": {
    "collapsed": false
   },
   "outputs": [],
   "source": [
    "# unpack parameters to predict selection probability with the selection function\n",
    "phi_test_list = []\n",
    "for par in ['S2mB', 'S2c', 'S2x1']:\n",
    "    phi_test_list.append(np.asarray(phi_test[par]))"
   ]
  },
  {
   "cell_type": "code",
   "execution_count": 28,
   "metadata": {
    "collapsed": false
   },
   "outputs": [],
   "source": [
    "# make predictions using the model and add results to \"test\" dataframe\n",
    "phi_test.loc[:,\"selection_prediction\"] = pd.Series(np.exp((log_indiv_selection_fn(phi_test_list, \n",
    "                                                                                  selection_param=(gm,gc,gx,eps)))), \n",
    "                                                                                                   index=phi_test.index)  \n",
    "phi_test[\"selection_prediction\"];                               "
   ]
  },
  {
   "cell_type": "markdown",
   "metadata": {},
   "source": [
    "## Visualizing the Trained Selection Function Classifier\n",
    "We're going to plot our trained classifier with respect to each latent variable to see how our fitted coefficients affect selectivity of SNIa$_{i_{test}}$ in the test dataset.\n",
    "\n",
    "At the same time, we'll get a visual representation of the accuracy of our classifier by plotting the true selection $Z_i$ values for each SN$_i$. \n",
    "**RED = MISSED, BLUE = SELECTED**"
   ]
  },
  {
   "cell_type": "code",
   "execution_count": 29,
   "metadata": {
    "collapsed": false
   },
   "outputs": [
    {
     "data": {
      "image/png": "[encoded data removed]",
      "text/plain": [
       "<Figure size 1224x360 with 3 Axes>"
      ]
     },
     "metadata": {},
     "output_type": "display_data"
    }
   ],
   "source": [
    "# Make a nifty plot to show the probability of selection in the test data as a function of one variable:\n",
    "\n",
    "fig,axs = plt.subplots(1, 3, figsize = (17,5))\n",
    "par_tags = ['S2mB', 'S2c', 'S2x1']\n",
    "latent_names = [' $m_B$', ' $c$', ' $x_1$']\n",
    "xlims = [(15, 27), (-0.8, 0.8), (-4, 4)]\n",
    "\n",
    "# split the selected SNe from the missed SNe\n",
    "select_mask_true = Z_test.astype(bool)             # masks of all selected (Z = 1) SNe\n",
    "missed_mask_true = np.invert(select_mask_true)     # mask of all missed SNe\n",
    "\n",
    "# unpack parameters to plot cross-sections with the selection function\n",
    "phi_test_plot = []\n",
    "for par in ['S2mB', 'S2c', 'S2x1']:\n",
    "    phi_test_plot.append(np.asarray(phi_test[par]))\n",
    "\n",
    "phi_missed = []\n",
    "phi_select = []\n",
    "for parameter in phi_test_plot:\n",
    "    phi_missed.append(parameter[missed_mask_true])\n",
    "    phi_select.append(parameter[select_mask_true])\n",
    "\n",
    "\n",
    "for i in range(len(axs)):\n",
    "    # plot missed SNe\n",
    "    axs[i].scatter(phi_test[par_tags[i]].iloc[missed_mask_true], \n",
    "                    phi_test['selection_prediction'].iloc[missed_mask_true], \n",
    "                            color='r', marker = '.', alpha=1, s=3, label='missed')\n",
    "    \n",
    "    # plot selected SNe\n",
    "    axs[i].scatter(phi_test[par_tags[i]].iloc[select_mask_true], phi_test['selection_prediction'].iloc[select_mask_true], \n",
    "                color='b', marker = '.', alpha=1, s=3, label='selected')\n",
    "    \n",
    "    # restrict xlims to observed SNe    \n",
    "    axs[i].set_xlim(xlims[i])    \n",
    "    # add labels\n",
    "    axs[i].set_xlabel(latent_names[i], fontsize=15)\n",
    "    axs[i].set_ylabel('$P(Z_i=1|$' + latent_names[i] + '$)$', fontsize=15)\n",
    "\n",
    "fig.suptitle('Selection Function Classifier on Test SNIa set', fontsize=17)\n",
    "#plt.legend(loc='best')\n",
    "#plt.savefig(fname='/mnt/c/Users/lucas/Documents/Fall2018/Imperial_2018/JP2/plots', dpi='figure')\n",
    "plt.show()"
   ]
  },
  {
   "cell_type": "markdown",
   "metadata": {},
   "source": [
    "**BLUE = SELECTED**, **RED = MISSED** The colors represent whether or not each SNANA simulated SNIa$_{i_{test}}$ in the test dataset was truely selected"
   ]
  },
  {
   "cell_type": "markdown",
   "metadata": {},
   "source": [
    "From these cutaways, we see that $m_B$ has the greatest effect on whether or not a SN will be selected. \"Stretch\" x1 has almost no effect on the selectivity (very small coefficient)"
   ]
  },
  {
   "cell_type": "markdown",
   "metadata": {},
   "source": [
    "## Predicted Distributions of SNe latent variables\n",
    "Finally, let's see how our classifier sorts our test data. We're going to look at the latent variable histogram cutaways of the **predicted** selection ( $Z_{predicted}$ = 0 or 1) of SNe and compare it to the plot we made before fitting the data."
   ]
  },
  {
   "cell_type": "code",
   "execution_count": 30,
   "metadata": {
    "collapsed": false
   },
   "outputs": [],
   "source": [
    "phi_test['selection_prediction'];"
   ]
  },
  {
   "cell_type": "code",
   "execution_count": 31,
   "metadata": {
    "collapsed": false
   },
   "outputs": [
    {
     "data": {
      "text/plain": [
       "1668"
      ]
     },
     "execution_count": 31,
     "metadata": {},
     "output_type": "execute_result"
    }
   ],
   "source": [
    "# make Z predicted\n",
    "Z_predict = (np.asarray(phi_test['selection_prediction']) > 0.5)\n",
    "Z_predict = Z_predict.astype(int)\n",
    "\n",
    "sum(Z_predict)\n",
    "len(phi_test)"
   ]
  },
  {
   "cell_type": "code",
   "execution_count": 32,
   "metadata": {
    "collapsed": false,
    "scrolled": true
   },
   "outputs": [
    {
     "data": {
      "image/png": "[encoded data removed]",
      "text/plain": [
       "<Figure size 1224x360 with 3 Axes>"
      ]
     },
     "metadata": {},
     "output_type": "display_data"
    }
   ],
   "source": [
    "\n",
    "# define lists of plotting features for latent mB, c, & x1\n",
    "sel_names = [\"SIM_mB\", 'SIM_c', 'SIM_x1']\n",
    "obs_names = ['S2mB', 'S2c', 'S2x1']\n",
    "xlims = [(20, 27), (-0.5, 0.5), (-4, 4)]\n",
    "binz = [10, 50, 20]\n",
    "predbins = [50, 100, 100]\n",
    "fig,axs = plt.subplots(1, 3, figsize = (17,5))\n",
    "\n",
    "for i in range(len(axs)):\n",
    "    axs[i].hist(data_sel[sel_names[i]], histtype='step', bins=binz[i], label='True Selected SNe', stacked=True, density=True)\n",
    "    axs[i].hist(phi_test[obs_names[i]].iloc[Z_predict], histtype='step', bins=predbins[i], stacked=True, label='Predicted Selected SNe from Test Group', density=True)\n",
    "    axs[i].hist(phi_test[obs_names[i]], histtype='step', bins=binz[i], label='All Simulated SNe', stacked=True, density=True)\n",
    "    axs[i].set_xlabel(obs_names[i][2:], fontsize=15)\n",
    "    \n",
    "    axs[i].set_xlim(xlims[i])\n",
    "\n",
    "fig.suptitle(\"Distributions of Observed Latent (true) Variables\", fontsize=20)\n",
    "plt.legend(loc='best')\n",
    "plt.show()"
   ]
  },
  {
   "cell_type": "code",
   "execution_count": 58,
   "metadata": {
    "collapsed": false
   },
   "outputs": [
    {
     "data": {
      "text/plain": [
       "1668"
      ]
     },
     "execution_count": 58,
     "metadata": {},
     "output_type": "execute_result"
    }
   ],
   "source": [
    "len(data_all)\n",
    "len(Z_predict)"
   ]
  },
  {
   "cell_type": "code",
   "execution_count": null,
   "metadata": {
    "collapsed": true
   },
   "outputs": [],
   "source": []
  }
 ],
 "metadata": {
  "anaconda-cloud": {},
  "kernelspec": {
   "display_name": "Python [default]",
   "language": "python",
   "name": "python3"
  },
  "language_info": {
   "codemirror_mode": {
    "name": "ipython",
    "version": 3
   },
   "file_extension": ".py",
   "mimetype": "text/x-python",
   "name": "python",
   "nbconvert_exporter": "python",
   "pygments_lexer": "ipython3",
   "version": "3.5.6"
  }
 },
 "nbformat": 4,
 "nbformat_minor": 2
}
