{
 "cells": [
  {
   "cell_type": "code",
   "execution_count": 1,
   "metadata": {},
   "outputs": [],
   "source": [
    "# clean up small batch of SNIa simulations to test BAHAMAS inference with."
   ]
  },
  {
   "cell_type": "code",
   "execution_count": 2,
   "metadata": {},
   "outputs": [],
   "source": [
    "# modules we need for the analysis\n",
    "import numpy as np\n",
    "import statsmodels.api as sm\n",
    "import statsmodels.formula.api as smf\n",
    "import pandas as pd\n",
    "# turn off annoying write warnings in pandas\n",
    "pd.options.mode.chained_assignment = None  # default='warn'\n",
    "\n",
    "import os,sys\n",
    "import matplotlib.pyplot as plt"
   ]
  },
  {
   "cell_type": "code",
   "execution_count": 3,
   "metadata": {},
   "outputs": [],
   "source": [
    "import cleanup"
   ]
  },
  {
   "cell_type": "code",
   "execution_count": 4,
   "metadata": {},
   "outputs": [],
   "source": [
    "# first we're going to make the text file readable by pandas using a helper function I wrote\n",
    "import cleanup\n",
    "\n",
    "fname = '/mnt/c/Users/lucas/Datasets/bahamas/data_snana/SNe_samples_4/Lucas_TEST_smearG10/FITOPT001.FITRES'\n",
    "cleanup.fitresCleanup(fname)\n",
    "fname = '/mnt/c/Users/lucas/Datasets/bahamas/data_snana/SNe_samples_4/Lucas_TEST_smearG10/SIMGEN.DAT'\n",
    "cleanup.simgenFileCleanup(fname)"
   ]
  },
  {
   "cell_type": "code",
   "execution_count": 7,
   "metadata": {},
   "outputs": [],
   "source": [
    "# Create set of files not subject to selection effects. Draw from perfect detection zone in selection function, \n",
    "# eg SNIa with mB brighter than 20.5.\n",
    "\n",
    "data = pd.read_csv('/mnt/c/Users/lucas/Datasets/bahamas/data_snana/SNe_samples_4/Lucas_TEST_smearG10/FITOPT001_selected.FITRES', sep='\\s+')"
   ]
  },
  {
   "cell_type": "code",
   "execution_count": 5,
   "metadata": {},
   "outputs": [],
   "source": [
    "fname = '/mnt/c/Users/lucas/Datasets/bahamas/data_snana/SNe_samples_4/Lucas_TEST_smearG10/FITOPT001_selected.FITRES'\n",
    "path = '/mnt/c/Users/lucas/Datasets/bahamas/data_snana/SNe_samples_4/'\n",
    "\n",
    "cleanup.createSNeFiles(fname, path, filenewname='selected', nfiles=10)"
   ]
  },
  {
   "cell_type": "code",
   "execution_count": 8,
   "metadata": {},
   "outputs": [],
   "source": [
    "new_color = []\n",
    "for i in range(len(data)):\n",
    "    mu_c = data['SIM_c'].values  # true color value\n",
    "    sigma_c = data['cERR'].values\n",
    "    new_color.append(mu_c[i] + np.random.normal(loc=0.0, scale=sigma_c[i]))\n",
    "\n",
    "new_color;"
   ]
  },
  {
   "cell_type": "code",
   "execution_count": 9,
   "metadata": {},
   "outputs": [
    {
     "data": {
      "text/plain": [
       "[-0.11454682851890396,\n",
       " -0.11275080444752661,\n",
       " -0.19591383314055544,\n",
       " -0.04784357573558915,\n",
       " 0.060566002230153806,\n",
       " -0.10875684156103306,\n",
       " -0.09477566344149514,\n",
       " -0.1177534974738147,\n",
       " 0.023460099762618647,\n",
       " -0.09996846489785347]"
      ]
     },
     "execution_count": 9,
     "metadata": {},
     "output_type": "execute_result"
    }
   ],
   "source": [
    "new_color[:10]"
   ]
  },
  {
   "cell_type": "code",
   "execution_count": 10,
   "metadata": {},
   "outputs": [
    {
     "data": {
      "text/plain": [
       "array([-0.134491  , -0.0160883 , -0.227088  , -0.00710802, -0.0721627 ,\n",
       "       -0.0921619 ,  0.0953996 , -0.135911  , -0.117726  , -0.0735472 ])"
      ]
     },
     "execution_count": 10,
     "metadata": {},
     "output_type": "execute_result"
    }
   ],
   "source": [
    "data['c'].values[:10]"
   ]
  },
  {
   "cell_type": "code",
   "execution_count": 11,
   "metadata": {},
   "outputs": [],
   "source": [
    "# add new color to the dataframe\n",
    "\n",
    "data['c'] = np.asarray(new_color)"
   ]
  },
  {
   "cell_type": "code",
   "execution_count": 12,
   "metadata": {},
   "outputs": [],
   "source": [
    "# export dataframe\n",
    "data.to_csv('/mnt/c/Users/lucas/Datasets/bahamas/data_snana/SNe_samples_symmetric/Lucas_TEST_smearG10/FITOPT001_gauss_c.FITRES', index=False, sep=' ' )"
   ]
  },
  {
   "cell_type": "code",
   "execution_count": 18,
   "metadata": {},
   "outputs": [],
   "source": [
    "\n",
    "fname = '/mnt/c/Users/lucas/Datasets/bahamas/data_snana/SNe_samples/selected_2.txt'\n",
    "data_sel[['CID', 'IDSURVEY', 'TYPE', 'FIELD', 'CUTFLAG_SNANA',\n",
    "       'zHEL', 'zHELERR', 'zCMB', 'zCMBERR', 'zHD', 'zHDERR', 'VPEC',\n",
    "       'VPECERR', 'HOST_LOGMASS', 'HOST_LOGMASS_ERR', 'SNRMAX1', 'SNRMAX2',\n",
    "       'SNRMAX3', 'PKMJD', 'PKMJDERR', 'x1', 'x1ERR', 'c', 'cERR', 'mB',\n",
    "       'mBERR', 'x0', 'x0ERR', 'COV_x1_c', 'COV_x1_x0', 'COV_c_x0', 'NDOF',\n",
    "       'FITCHI2', 'FITPROB', 'SIM_TYPE_INDEX', 'SIM_TEMPLATE_INDEX',\n",
    "       'SIM_LIBID', 'SIM_NGEN_LIBID', 'SIM_ZCMB', 'SIM_VPEC', 'SIM_DLMAG',\n",
    "       'SIM_PKMJD', 'SIM_x1', 'SIM_c', 'SIM_alpha', 'SIM_beta', 'SIM_x0',\n",
    "       'SIM_mB', 'SIM_AV']].to_csv(fname, sep=' ', index=False)"
   ]
  },
  {
   "cell_type": "code",
   "execution_count": 23,
   "metadata": {},
   "outputs": [],
   "source": [
    "data_diagnose = pd.read_csv('/mnt/c/Users/lucas/Datasets/bahamas/data_snana/SNe_samples_2/selected_1.txt', sep='\\s+')"
   ]
  },
  {
   "cell_type": "code",
   "execution_count": 24,
   "metadata": {},
   "outputs": [],
   "source": [
    "mask = data_diagnose['c'] > -4"
   ]
  },
  {
   "cell_type": "code",
   "execution_count": 25,
   "metadata": {},
   "outputs": [
    {
     "data": {
      "text/plain": [
       "(array([  6.,  11.,  52.,  92., 115., 116.,  61.,  34.,  18.,   6.]),\n",
       " array([-0.288917 , -0.2316453, -0.1743736, -0.1171019, -0.0598302,\n",
       "        -0.0025585,  0.0547132,  0.1119849,  0.1692566,  0.2265283,\n",
       "         0.2838   ]),\n",
       " <a list of 10 Patch objects>)"
      ]
     },
     "execution_count": 25,
     "metadata": {},
     "output_type": "execute_result"
    },
    {
     "data": {
      "image/png": "[encoded data removed]",
      "text/plain": [
       "<Figure size 432x288 with 1 Axes>"
      ]
     },
     "metadata": {
      "needs_background": "light"
     },
     "output_type": "display_data"
    }
   ],
   "source": [
    "plt.hist((data_diagnose['c'].loc[mask]))\n",
    "#plt.hist(data_diagnose['SIM_c'])"
   ]
  },
  {
   "cell_type": "code",
   "execution_count": 6,
   "metadata": {},
   "outputs": [
    {
     "ename": "AttributeError",
     "evalue": "module 'numpy' has no attribute 'moment'",
     "output_type": "error",
     "traceback": [
      "\u001b[0;31m---------------------------------------------------------------------------\u001b[0m",
      "\u001b[0;31mAttributeError\u001b[0m                            Traceback (most recent call last)",
      "\u001b[0;32m<ipython-input-6-2ed2e99d0d30>\u001b[0m in \u001b[0;36m<module>\u001b[0;34m\u001b[0m\n\u001b[0;32m----> 1\u001b[0;31m \u001b[0mnp\u001b[0m\u001b[0;34m.\u001b[0m\u001b[0mmoment\u001b[0m\u001b[0;34m(\u001b[0m\u001b[0mdata_diagnose\u001b[0m\u001b[0;34m[\u001b[0m\u001b[0;34m'SIM_c'\u001b[0m\u001b[0;34m]\u001b[0m\u001b[0;34m.\u001b[0m\u001b[0mvalues\u001b[0m\u001b[0;34m,\u001b[0m \u001b[0;34m)\u001b[0m\u001b[0;34m\u001b[0m\u001b[0;34m\u001b[0m\u001b[0m\n\u001b[0m",
      "\u001b[0;31mAttributeError\u001b[0m: module 'numpy' has no attribute 'moment'"
     ]
    }
   ],
   "source": [
    "np.moment(data_diagnose['SIM_c'].values, )"
   ]
  },
  {
   "cell_type": "code",
   "execution_count": 30,
   "metadata": {},
   "outputs": [
    {
     "data": {
      "text/plain": [
       "Index(['VARNAMES:', 'CID', 'IDSURVEY', 'TYPE', 'FIELD', 'CUTFLAG_SNANA',\n",
       "       'zHEL', 'zHELERR', 'zCMB', 'zCMBERR', 'zHD', 'zHDERR', 'VPEC',\n",
       "       'VPECERR', 'HOST_LOGMASS', 'HOST_LOGMASS_ERR', 'SNRMAX1', 'SNRMAX2',\n",
       "       'SNRMAX3', 'PKMJD', 'PKMJDERR', 'x1', 'x1ERR', 'c', 'cERR', 'mB',\n",
       "       'mBERR', 'x0', 'x0ERR', 'COV_x1_c', 'COV_x1_x0', 'COV_c_x0', 'NDOF',\n",
       "       'FITCHI2', 'FITPROB', 'SIM_TYPE_INDEX', 'SIM_TEMPLATE_INDEX',\n",
       "       'SIM_LIBID', 'SIM_NGEN_LIBID', 'SIM_ZCMB', 'SIM_VPEC', 'SIM_DLMAG',\n",
       "       'SIM_PKMJD', 'SIM_x1', 'SIM_c', 'SIM_alpha', 'SIM_beta', 'SIM_x0',\n",
       "       'SIM_mB', 'SIM_AV'],\n",
       "      dtype='object')"
      ]
     },
     "execution_count": 30,
     "metadata": {},
     "output_type": "execute_result"
    }
   ],
   "source": [
    "data_diagnose.columns"
   ]
  },
  {
   "cell_type": "code",
   "execution_count": 15,
   "metadata": {},
   "outputs": [
    {
     "name": "stdout",
     "output_type": "stream",
     "text": [
      "Gibbs Sampler evaluation time for 34 iterations =  34\n"
     ]
    }
   ],
   "source": [
    "print('Gibbs Sampler evaluation time for {} iterations = '.format(34), 34 )"
   ]
  },
  {
   "cell_type": "code",
   "execution_count": 6,
   "metadata": {},
   "outputs": [],
   "source": [
    "import scipy"
   ]
  },
  {
   "cell_type": "code",
   "execution_count": 13,
   "metadata": {},
   "outputs": [
    {
     "data": {
      "text/plain": [
       "563331551274.3846"
      ]
     },
     "execution_count": 13,
     "metadata": {},
     "output_type": "execute_result"
    }
   ],
   "source": [
    "scipy.stats.invgamma.rvs(a=250, scale = 150000000000000)"
   ]
  },
  {
   "cell_type": "code",
   "execution_count": 39,
   "metadata": {},
   "outputs": [],
   "source": [
    "def test_loop():\n",
    "    new = np.random.random()\n",
    "    while new < 0.5:\n",
    "        new = np.random.random()\n",
    "    if (new > 0.5):\n",
    "            return new"
   ]
  },
  {
   "cell_type": "code",
   "execution_count": 41,
   "metadata": {},
   "outputs": [
    {
     "name": "stdout",
     "output_type": "stream",
     "text": [
      "0.5876807717875965\n",
      "0.614804793689818\n",
      "0.5153351476613424\n",
      "0.7543382810909295\n",
      "0.8742947960023281\n",
      "0.9809776259223751\n",
      "0.7820061416048643\n",
      "0.8224671756578101\n",
      "0.8033402915828042\n",
      "0.6853573586270711\n",
      "0.5991294360112354\n",
      "0.588595300242138\n",
      "0.7463011531366952\n",
      "0.9997823830840085\n",
      "0.5563487567332853\n",
      "0.608064292992367\n",
      "0.8846724496427937\n",
      "0.988546787617273\n",
      "0.8339276288953247\n",
      "0.7873161560117922\n",
      "0.5299985601512853\n",
      "0.7443994039837474\n",
      "0.6604407230613581\n",
      "0.7496123032481701\n",
      "0.8301550938416568\n",
      "0.5759178963508276\n",
      "0.7177017671593713\n",
      "0.8332903359219613\n",
      "0.5245969800857688\n",
      "0.725818281061963\n",
      "0.7778654725161719\n",
      "0.9150167478641791\n",
      "0.7477991850093765\n",
      "0.7832871241455226\n",
      "0.9766143147534617\n",
      "0.5537391927167072\n",
      "0.6610525581409604\n",
      "0.983095576066429\n",
      "0.7084162784833223\n",
      "0.8745277649342935\n",
      "0.9594858328702511\n",
      "0.5101904193506023\n",
      "0.8309466706655229\n",
      "0.6556879224210689\n",
      "0.8415613611911001\n",
      "0.9781876444663495\n",
      "0.5676139679472361\n",
      "0.9636111007170538\n",
      "0.9349536082719149\n",
      "0.9816419631828603\n",
      "0.735444765735199\n",
      "0.6255656408044242\n",
      "0.6254469466867496\n",
      "0.9070661862022386\n",
      "0.5045392286829763\n",
      "0.9758468644974791\n",
      "0.7554519759931918\n",
      "0.5379585729066577\n",
      "0.6557849060905483\n",
      "0.7382027896448763\n",
      "0.8277717428927676\n",
      "0.7339778752194942\n",
      "0.9718080337524263\n",
      "0.7844196857823289\n",
      "0.8006366032112089\n",
      "0.7571240869487843\n",
      "0.6790342444483795\n",
      "0.8672353575157096\n",
      "0.5092768344004014\n",
      "0.7818309652308928\n",
      "0.5195142806123592\n",
      "0.8588320277525269\n",
      "0.9715212561757602\n",
      "0.7468485618802292\n",
      "0.9128090450224744\n",
      "0.7898523863989423\n",
      "0.8233444767912533\n",
      "0.7741399738787376\n",
      "0.8074706706407158\n",
      "0.7341016041632848\n",
      "0.7752971185602462\n",
      "0.8659932241347309\n",
      "0.7309292651379617\n",
      "0.6220165407345899\n",
      "0.5257501858239573\n",
      "0.7195196785792874\n",
      "0.6727441757073123\n",
      "0.8421049593057764\n",
      "0.8133088962745143\n",
      "0.6019447942036482\n",
      "0.8181779266173596\n",
      "0.6580549614491134\n",
      "0.5684479445818209\n",
      "0.5093253537547648\n",
      "0.9263614427362268\n",
      "0.7132004688172315\n",
      "0.5348123999629651\n",
      "0.727842824170439\n",
      "0.9859988394183536\n",
      "0.9990292531395492\n"
     ]
    }
   ],
   "source": [
    "for i in range(100):\n",
    "    print(test_loop())"
   ]
  },
  {
   "cell_type": "code",
   "execution_count": null,
   "metadata": {},
   "outputs": [],
   "source": []
  },
  {
   "cell_type": "code",
   "execution_count": null,
   "metadata": {},
   "outputs": [],
   "source": []
  }
 ],
 "metadata": {
  "anaconda-cloud": {},
  "kernelspec": {
   "display_name": "Python 3",
   "language": "python",
   "name": "python3"
  },
  "language_info": {
   "codemirror_mode": {
    "name": "ipython",
    "version": 3
   },
   "file_extension": ".py",
   "mimetype": "text/x-python",
   "name": "python",
   "nbconvert_exporter": "python",
   "pygments_lexer": "ipython3",
   "version": "3.6.7"
  }
 },
 "nbformat": 4,
 "nbformat_minor": 1
}
