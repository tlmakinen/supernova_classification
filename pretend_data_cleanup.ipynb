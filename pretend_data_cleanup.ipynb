{
 "cells": [
  {
   "cell_type": "code",
   "execution_count": 1,
   "metadata": {
    "collapsed": true
   },
   "outputs": [],
   "source": [
    "# clean up small batch of SNIa simulations to test BAHAMAS inference with."
   ]
  },
  {
   "cell_type": "code",
   "execution_count": 3,
   "metadata": {
    "collapsed": true
   },
   "outputs": [],
   "source": [
    "# modules we need for the analysis\n",
    "import numpy as np\n",
    "import statsmodels.api as sm\n",
    "import statsmodels.formula.api as smf\n",
    "import pandas as pd\n",
    "# turn off annoying write warnings in pandas\n",
    "pd.options.mode.chained_assignment = None  # default='warn'\n",
    "\n",
    "import matplotlib.pyplot as plt"
   ]
  },
  {
   "cell_type": "code",
   "execution_count": 4,
   "metadata": {
    "collapsed": false
   },
   "outputs": [],
   "source": [
    "# load data from smearC11 (glare type) FITRES files\n",
    "data_sel = pd.read_csv('/mnt/c/Users/lucas/Datasets/bahamas/data_snana/smearC11/FITOPT001.FITRES', sep='\\s+', skiprows=12)  # selected SNe"
   ]
  },
  {
   "cell_type": "code",
   "execution_count": 7,
   "metadata": {
    "collapsed": false
   },
   "outputs": [],
   "source": [
    "for name in ['zHEL', 'SIM_c', 'SIM_mB', 'SIM_x1']:\n",
    "    data_sel.loc[:, name] = data_sel.loc[:,name].astype(float)"
   ]
  },
  {
   "cell_type": "code",
   "execution_count": 8,
   "metadata": {
    "collapsed": true
   },
   "outputs": [],
   "source": [
    "# remove -9 placeholder valued SNe in selection file\n",
    "snia_sel = data_sel['SIM_c'].values.astype(int) > -9\n",
    "snia_sel &= data_sel['SIM_mB'].values.astype(int) > 0\n",
    "snia_sel &= data_sel['SIM_x1'].values.astype(int) > -9"
   ]
  },
  {
   "cell_type": "code",
   "execution_count": 9,
   "metadata": {
    "collapsed": false
   },
   "outputs": [
    {
     "name": "stdout",
     "output_type": "stream",
     "text": [
      "573  non-core collapse Type Ia SNe in bulk dataset\n"
     ]
    }
   ],
   "source": [
    "# re-write the selected dataframe for viable SNIa:\n",
    "data_sel = data_sel.iloc[snia_sel]\n",
    "print(str(len(data_sel)), \" non-core collapse Type Ia SNe in bulk dataset\")"
   ]
  },
  {
   "cell_type": "code",
   "execution_count": 21,
   "metadata": {
    "collapsed": false
   },
   "outputs": [
    {
     "data": {
      "text/plain": [
       "Index(['VARNAMES:', 'CID', 'IDSURVEY', 'TYPE', 'FIELD', 'CUTFLAG_SNANA',\n",
       "       'zHEL', 'zHELERR', 'zCMB', 'zCMBERR', 'zHD', 'zHDERR', 'VPEC',\n",
       "       'VPECERR', 'HOST_LOGMASS', 'HOST_LOGMASS_ERR', 'SNRMAX1', 'SNRMAX2',\n",
       "       'SNRMAX3', 'PKMJD', 'PKMJDERR', 'x1', 'x1ERR', 'c', 'cERR', 'mB',\n",
       "       'mBERR', 'x0', 'x0ERR', 'COV_x1_c', 'COV_x1_x0', 'COV_c_x0', 'NDOF',\n",
       "       'FITCHI2', 'FITPROB', 'SIM_TYPE_INDEX', 'SIM_TEMPLATE_INDEX',\n",
       "       'SIM_LIBID', 'SIM_NGEN_LIBID', 'SIM_ZCMB', 'SIM_VPEC', 'SIM_DLMAG',\n",
       "       'SIM_PKMJD', 'SIM_x1', 'SIM_c', 'SIM_alpha', 'SIM_beta', 'SIM_x0',\n",
       "       'SIM_mB', 'SIM_AV'],\n",
       "      dtype='object')"
      ]
     },
     "execution_count": 21,
     "metadata": {},
     "output_type": "execute_result"
    }
   ],
   "source": [
    "data_sel.columns"
   ]
  },
  {
   "cell_type": "code",
   "execution_count": 28,
   "metadata": {
    "collapsed": false
   },
   "outputs": [],
   "source": [
    "fname = '/mnt/c/Users/lucas/Datasets/bahamas/data_snana/SNe_samples/selected_1'\n",
    "data_sel[['CID', 'IDSURVEY', 'TYPE', 'FIELD', 'CUTFLAG_SNANA',\n",
    "       'zHEL', 'zHELERR', 'zCMB', 'zCMBERR', 'zHD', 'zHDERR', 'VPEC',\n",
    "       'VPECERR', 'HOST_LOGMASS', 'HOST_LOGMASS_ERR', 'SNRMAX1', 'SNRMAX2',\n",
    "       'SNRMAX3', 'PKMJD', 'PKMJDERR', 'x1', 'x1ERR', 'c', 'cERR', 'mB',\n",
    "       'mBERR', 'x0', 'x0ERR', 'COV_x1_c', 'COV_x1_x0', 'COV_c_x0', 'NDOF',\n",
    "       'FITCHI2', 'FITPROB', 'SIM_TYPE_INDEX', 'SIM_TEMPLATE_INDEX',\n",
    "       'SIM_LIBID', 'SIM_NGEN_LIBID', 'SIM_ZCMB', 'SIM_VPEC', 'SIM_DLMAG',\n",
    "       'SIM_PKMJD', 'SIM_x1', 'SIM_c', 'SIM_alpha', 'SIM_beta', 'SIM_x0',\n",
    "       'SIM_mB', 'SIM_AV']].to_csv(fname, sep=' ', index=False)"
   ]
  },
  {
   "cell_type": "code",
   "execution_count": null,
   "metadata": {
    "collapsed": true
   },
   "outputs": [],
   "source": []
  }
 ],
 "metadata": {
  "kernelspec": {
   "display_name": "Python [conda env:anaconda3]",
   "language": "python",
   "name": "conda-env-anaconda3-py"
  },
  "language_info": {
   "codemirror_mode": {
    "name": "ipython",
    "version": 3
   },
   "file_extension": ".py",
   "mimetype": "text/x-python",
   "name": "python",
   "nbconvert_exporter": "python",
   "pygments_lexer": "ipython3",
   "version": "3.5.6"
  }
 },
 "nbformat": 4,
 "nbformat_minor": 1
}
