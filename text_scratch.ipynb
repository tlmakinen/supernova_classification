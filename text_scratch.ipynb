{
 "cells": [
  {
   "cell_type": "markdown",
   "metadata": {},
   "source": [
    "## Incorporating Selection effects and Redshift distribution into likelihood"
   ]
  },
  {
   "cell_type": "markdown",
   "metadata": {},
   "source": [
    "Start with posterior distribution:\n",
    "\n",
    "# $$ p(\\Theta \\  | \\  \\hat{\\mathscr{D}}) =  \\frac{p(\\hat{\\mathscr{D}} \\ | \\ \\Theta, M_o) p(\\Theta, M_o)}{p(\\hat{\\mathscr{D}})}  $$"
   ]
  },
  {
   "cell_type": "markdown",
   "metadata": {},
   "source": [
    "Take a look at \"vanilla\" likelihood:\n",
    "\n",
    "# $$ \\mathscr{L}_{vanilla}\\ = \\ p(\\hat{\\mathscr{D}} \\ | \\ \\Theta, M_o) p(\\Theta, M_o) = p(\\hat{\\mathscr{D}}\\ |\\ \\mathscr{D}, \\Theta, M_o) p(\\mathscr{D}\\ | \\ \\Theta, M_o)$$"
   ]
  },
  {
   "cell_type": "markdown",
   "metadata": {},
   "source": [
    "Take a look at \"corrected\" log likelihood:\n",
    "\n",
    "## $$ log(p(\\hat{\\mathscr{D}} \\ | \\ \\Theta, M_o) p(\\Theta, M_o)) = log(p(\\hat{\\mathscr{D}}\\ |\\ \\mathscr{D}, \\Theta, M_o)) + log( p(\\mathscr{D}\\ | \\ \\Theta, M_o))$$\n",
    "\n",
    "# $$ \\mathscr{L}_{corrected} \\propto \\mathscr{L}_{vanilla} * \\frac{p(S\\ |\\ \\mathscr{D} )}{p(S\\ |\\ \\beta)}  $$\n",
    "\n",
    "\n",
    "# $$ \\mathscr{L}_{corrected} \\propto\\ \\mathscr{L}_{vanilla} \\times \\prod_{i}^{N_{obs}} \\frac{p\\big(S_i=1\\ \\big|\\ \\hat{\\mathscr{D}}_i \\big)}{p\\big(S_i=1\\ \\big|\\ z_i, \\Theta_{hyper}\\big)}  $$\n",
    "\n",
    "\n",
    "\n",
    "\n",
    "# $$ \\Theta_{hyper} = \\big\\{ D_{*}, \\Sigma, \\mathscr{B}, \\mathscr{C} \\big\\}$$\n",
    "# $$ \\hat{\\mathscr{D}}_i = \\big\\{ \\hat{m_B}_i, \\hat{c}_i, \\hat{x_1}_i \\big\\} $$"
   ]
  },
  {
   "cell_type": "markdown",
   "metadata": {},
   "source": [
    "# $$ p\\big(S_i=1\\ \\big|\\ {\\mathscr{D}}_i \\big) $$ "
   ]
  },
  {
   "cell_type": "markdown",
   "metadata": {},
   "source": [
    "# $$ p(S_i=1\\ |\\ z_i, \\Theta_{hyper} ) = \\int{}^{} dz_i\\ p(S_i = 1\\ |\\ z_i, \\Theta_{hyper})\\ p(z_i)$$\n",
    "\n",
    "### where $ p(z) =$ expected redshift distribution and $p(S_i\\ |\\ z_i, \\beta)$ is our selection function fitted to coefficients $\\beta$ to a logit function:\n",
    "\n",
    "# $$ p(S_i\\ |\\ z_i, \\beta) \\approx CDF_{\\mathscr{N}} $$"
   ]
  },
  {
   "cell_type": "markdown",
   "metadata": {},
   "source": [
    "# $$ p(S\\ |\\ \\mathscr{D} ) = \\prod_{i}^{} p(S_i\\ |\\ \\mathscr{D}_i, \\beta_i) $$\n",
    "\n",
    "### where $ p(z) =$ expected redshift distribution and $p(S_i\\ |\\ z_i, \\beta)$ is our selection function fitted to coefficients $\\beta$ to a logit function:\n",
    "\n",
    "# $$ p(S_i\\ |\\ z_i, \\beta) \\approx CDF_{\\mathscr{N}} $$"
   ]
  },
  {
   "cell_type": "code",
   "execution_count": null,
   "metadata": {},
   "outputs": [],
   "source": []
  }
 ],
 "metadata": {
  "kernelspec": {
   "display_name": "Python 3",
   "language": "python",
   "name": "python3"
  },
  "language_info": {
   "codemirror_mode": {
    "name": "ipython",
    "version": 3
   },
   "file_extension": ".py",
   "mimetype": "text/x-python",
   "name": "python",
   "nbconvert_exporter": "python",
   "pygments_lexer": "ipython3",
   "version": "3.5.5"
  }
 },
 "nbformat": 4,
 "nbformat_minor": 2
}
